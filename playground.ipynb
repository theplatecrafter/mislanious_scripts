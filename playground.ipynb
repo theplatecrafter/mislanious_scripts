{
 "cells": [
  {
   "cell_type": "markdown",
   "metadata": {},
   "source": [
    "initial import"
   ]
  },
  {
   "cell_type": "code",
   "execution_count": 1,
   "metadata": {},
   "outputs": [
    {
     "name": "stderr",
     "output_type": "stream",
     "text": [
      "/home/hans/.cache/pypoetry/virtualenvs/mislanious-scripts-8qATDqur-py3.12/lib/python3.12/site-packages/pygame/pkgdata.py:25: UserWarning: pkg_resources is deprecated as an API. See https://setuptools.pypa.io/en/latest/pkg_resources.html. The pkg_resources package is slated for removal as early as 2025-11-30. Refrain from using this package or pin to Setuptools<81.\n",
      "  from pkg_resources import resource_stream, resource_exists\n"
     ]
    },
    {
     "name": "stdout",
     "output_type": "stream",
     "text": [
      "pygame 2.6.1 (SDL 2.28.4, Python 3.12.3)\n",
      "Hello from the pygame community. https://www.pygame.org/contribute.html\n"
     ]
    }
   ],
   "source": [
    "import time_capsule_handler.main as tch\n",
    "import random_functions.main as rf\n",
    "import numpy as np\n",
    "import math as m"
   ]
  },
  {
   "cell_type": "markdown",
   "metadata": {},
   "source": [
    "double pendulum simulation (output vid)"
   ]
  },
  {
   "cell_type": "code",
   "execution_count": null,
   "metadata": {},
   "outputs": [
    {
     "name": "stdout",
     "output_type": "stream",
     "text": [
      "Animation saved as double_pendulum.mp4\n"
     ]
    }
   ],
   "source": [
    "rf.visualize_double_pendulum(np.pi/2,np.pi/2,2,output_dir=\"outputs\")"
   ]
  },
  {
   "cell_type": "markdown",
   "metadata": {},
   "source": [
    "double pendulum grid simulation (output vid)"
   ]
  },
  {
   "cell_type": "code",
   "execution_count": null,
   "metadata": {},
   "outputs": [],
   "source": [
    "start1, end1 = m.radians(180), m.radians(-180)\n",
    "start2, end2 = m.radians(180), m.radians(-180)\n",
    "\n",
    "rf.double_pendulum_chaos_grid((start1,end1),(start2,end2),60,[2],\"outputs\",\"DP_grid_fullrange\",printDeets=True,sim_height=50,sim_width=50)"
   ]
  },
  {
   "cell_type": "markdown",
   "metadata": {},
   "source": [
    "double pendulum grid simulation (pygame, continuouse)"
   ]
  },
  {
   "cell_type": "code",
   "execution_count": null,
   "metadata": {},
   "outputs": [],
   "source": [
    "start1, end1 = m.radians(90), m.radians(-90)\n",
    "start2, end2 = m.radians(90), m.radians(-90)\n",
    "\n",
    "rf.grid_sim((start1,end1),(start2,end2),50,50,500,500,printDeets=True)"
   ]
  },
  {
   "cell_type": "markdown",
   "metadata": {},
   "source": [
    "remove repeated images"
   ]
  },
  {
   "cell_type": "code",
   "execution_count": 7,
   "metadata": {},
   "outputs": [
    {
     "name": "stdout",
     "output_type": "stream",
     "text": [
      "Starting approximate duplicate image removal process...\n",
      "Current working directory: /home/hans/projects/mislanious_scripts\n",
      "Hashed 100 images...\n",
      "Hashed 200 images...\n",
      "Hashed 300 images...\n",
      "Hashed 400 images...\n",
      "Hashed 484 images in total.\n",
      "Found 30 potential duplicate groups.\n",
      "Checking 2 images with hash: 8097f2e87f131c8d\n",
      "Comparing /mnt/f/8) 2025/2025-5-31 （元）伊豆大島キャン→阿智村キャン/2025-6-1 ２日目/PXL_20250601_014320517.jpg and /mnt/f/8) 2025/2025-5-31 （元）伊豆大島キャン→阿智村キャン/みんなが撮ったの/LINE_ALBUM_急遽長野‼️_250607_29.jpg: Mean pixel difference=4.99415744735823\n",
      "All files and directories in /mnt/f/8) 2025/2025-5-31 （元）伊豆大島キャン→阿智村キャン/みんなが撮ったの/LINE_ALBUM_急遽長野‼️_250607_29.jpg have been removed.\n",
      "Deleted /mnt/f/8) 2025/2025-5-31 （元）伊豆大島キャン→阿智村キャン/みんなが撮ったの/LINE_ALBUM_急遽長野‼️_250607_29.jpg (approximate duplicate of /mnt/f/8) 2025/2025-5-31 （元）伊豆大島キャン→阿智村キャン/2025-6-1 ２日目/PXL_20250601_014320517.jpg, lower resolution)\n",
      "Checking 2 images with hash: 862bd9a3667de806\n",
      "Comparing /mnt/f/8) 2025/2025-5-31 （元）伊豆大島キャン→阿智村キャン/2025-6-2 ３日目/PXL_20250601_210219927.jpg and /mnt/f/8) 2025/2025-5-31 （元）伊豆大島キャン→阿智村キャン/みんなが撮ったの/LINE_ALBUM_急遽長野‼️_250607_75.jpg: Mean pixel difference=14.802125106729935\n",
      "Checking 2 images with hash: 89c98bb72366cccc\n",
      "Comparing /mnt/f/8) 2025/2025-5-31 （元）伊豆大島キャン→阿智村キャン/2025-6-2 ３日目/PXL_20250601_210224930.jpg and /mnt/f/8) 2025/2025-5-31 （元）伊豆大島キャン→阿智村キャン/みんなが撮ったの/LINE_ALBUM_急遽長野‼️_250607_76.jpg: Mean pixel difference=10.850992216588281\n",
      "Checking 2 images with hash: 8a89e66579cc5e2a\n",
      "Comparing /mnt/f/8) 2025/2025-5-31 （元）伊豆大島キャン→阿智村キャン/2025-6-1 ２日目/PXL_20250601_012152250.jpg and /mnt/f/8) 2025/2025-5-31 （元）伊豆大島キャン→阿智村キャン/みんなが撮ったの/LINE_ALBUM_急遽長野‼️_250607_20.jpg: Mean pixel difference=8.54075366643571\n",
      "All files and directories in /mnt/f/8) 2025/2025-5-31 （元）伊豆大島キャン→阿智村キャン/みんなが撮ったの/LINE_ALBUM_急遽長野‼️_250607_20.jpg have been removed.\n",
      "Deleted /mnt/f/8) 2025/2025-5-31 （元）伊豆大島キャン→阿智村キャン/みんなが撮ったの/LINE_ALBUM_急遽長野‼️_250607_20.jpg (approximate duplicate of /mnt/f/8) 2025/2025-5-31 （元）伊豆大島キャン→阿智村キャン/2025-6-1 ２日目/PXL_20250601_012152250.jpg, lower resolution)\n",
      "Checking 2 images with hash: 8b8cf2747c432bb2\n",
      "Comparing /mnt/f/8) 2025/2025-5-31 （元）伊豆大島キャン→阿智村キャン/2025-6-1 ２日目/PXL_20250601_012153973.jpg and /mnt/f/8) 2025/2025-5-31 （元）伊豆大島キャン→阿智村キャン/みんなが撮ったの/LINE_ALBUM_急遽長野‼️_250607_21.jpg: Mean pixel difference=9.561806364778421\n",
      "All files and directories in /mnt/f/8) 2025/2025-5-31 （元）伊豆大島キャン→阿智村キャン/みんなが撮ったの/LINE_ALBUM_急遽長野‼️_250607_21.jpg have been removed.\n",
      "Deleted /mnt/f/8) 2025/2025-5-31 （元）伊豆大島キャン→阿智村キャン/みんなが撮ったの/LINE_ALBUM_急遽長野‼️_250607_21.jpg (approximate duplicate of /mnt/f/8) 2025/2025-5-31 （元）伊豆大島キャン→阿智村キャン/2025-6-1 ２日目/PXL_20250601_012153973.jpg, lower resolution)\n",
      "Checking 2 images with hash: 8c7a79f1e314688e\n",
      "Comparing /mnt/f/8) 2025/2025-5-31 （元）伊豆大島キャン→阿智村キャン/2025-6-1 ２日目/PXL_20250601_111922128.NIGHT.jpg and /mnt/f/8) 2025/2025-5-31 （元）伊豆大島キャン→阿智村キャン/みんなが撮ったの/LINE_ALBUM_急遽長野‼️_250607_73.jpg: Mean pixel difference=5.964005584658418\n",
      "All files and directories in /mnt/f/8) 2025/2025-5-31 （元）伊豆大島キャン→阿智村キャン/みんなが撮ったの/LINE_ALBUM_急遽長野‼️_250607_73.jpg have been removed.\n",
      "Deleted /mnt/f/8) 2025/2025-5-31 （元）伊豆大島キャン→阿智村キャン/みんなが撮ったの/LINE_ALBUM_急遽長野‼️_250607_73.jpg (approximate duplicate of /mnt/f/8) 2025/2025-5-31 （元）伊豆大島キャン→阿智村キャン/2025-6-1 ２日目/PXL_20250601_111922128.NIGHT.jpg, lower resolution)\n",
      "Checking 2 images with hash: 8ea8f2cf80f866c3\n",
      "Comparing /mnt/f/8) 2025/2025-5-31 （元）伊豆大島キャン→阿智村キャン/2025-6-1 ２日目/PXL_20250601_012253194.jpg and /mnt/f/8) 2025/2025-5-31 （元）伊豆大島キャン→阿智村キャン/みんなが撮ったの/LINE_ALBUM_急遽長野‼️_250607_24.jpg: Mean pixel difference=9.119273107905714\n",
      "All files and directories in /mnt/f/8) 2025/2025-5-31 （元）伊豆大島キャン→阿智村キャン/みんなが撮ったの/LINE_ALBUM_急遽長野‼️_250607_24.jpg have been removed.\n",
      "Deleted /mnt/f/8) 2025/2025-5-31 （元）伊豆大島キャン→阿智村キャン/みんなが撮ったの/LINE_ALBUM_急遽長野‼️_250607_24.jpg (approximate duplicate of /mnt/f/8) 2025/2025-5-31 （元）伊豆大島キャン→阿智村キャン/2025-6-1 ２日目/PXL_20250601_012253194.jpg, lower resolution)\n",
      "Checking 2 images with hash: 90c2ef155893477e\n",
      "Comparing /mnt/f/8) 2025/2025-5-31 （元）伊豆大島キャン→阿智村キャン/2025-6-1 ２日目/PXL_20250531_234623963.jpg and /mnt/f/8) 2025/2025-5-31 （元）伊豆大島キャン→阿智村キャン/みんなが撮ったの/LINE_ALBUM_急遽長野‼️_250607_18.jpg: Mean pixel difference=12.04322751905975\n",
      "Checking 2 images with hash: 956ae07a8bdc08ed\n",
      "Comparing /mnt/f/8) 2025/2025-5-31 （元）伊豆大島キャン→阿智村キャン/2025-6-1 ２日目/PXL_20250601_014304075.jpg and /mnt/f/8) 2025/2025-5-31 （元）伊豆大島キャン→阿智村キャン/みんなが撮ったの/LINE_ALBUM_急遽長野‼️_250607_25.jpg: Mean pixel difference=14.580290363744949\n",
      "Checking 2 images with hash: 9972649bd9264c9b\n",
      "Comparing /mnt/f/8) 2025/2025-5-31 （元）伊豆大島キャン→阿智村キャン/2025-5-31 １日目/PXL_20250531_131418430.jpg and /mnt/f/8) 2025/2025-5-31 （元）伊豆大島キャン→阿智村キャン/みんなが撮ったの/LINE_ALBUM_急遽長野‼️_250607_17.jpg: Mean pixel difference=5.698274911816578\n",
      "All files and directories in /mnt/f/8) 2025/2025-5-31 （元）伊豆大島キャン→阿智村キャン/みんなが撮ったの/LINE_ALBUM_急遽長野‼️_250607_17.jpg have been removed.\n",
      "Deleted /mnt/f/8) 2025/2025-5-31 （元）伊豆大島キャン→阿智村キャン/みんなが撮ったの/LINE_ALBUM_急遽長野‼️_250607_17.jpg (approximate duplicate of /mnt/f/8) 2025/2025-5-31 （元）伊豆大島キャン→阿智村キャン/2025-5-31 １日目/PXL_20250531_131418430.jpg, lower resolution)\n",
      "Checking 2 images with hash: 99978e8bc3d84365\n",
      "Comparing /mnt/f/8) 2025/2025-5-31 （元）伊豆大島キャン→阿智村キャン/2025-6-1 ２日目/PXL_20250601_014306249.jpg and /mnt/f/8) 2025/2025-5-31 （元）伊豆大島キャン→阿智村キャン/みんなが撮ったの/LINE_ALBUM_急遽長野‼️_250607_28.jpg: Mean pixel difference=10.114846002701492\n",
      "Checking 2 images with hash: 9e539860796fb431\n",
      "Comparing /mnt/f/8) 2025/2025-5-31 （元）伊豆大島キャン→阿智村キャン/2025-6-1 ２日目/PXL_20250601_021134310.jpg and /mnt/f/8) 2025/2025-5-31 （元）伊豆大島キャン→阿智村キャン/みんなが撮ったの/LINE_ALBUM_急遽長野‼️_250607_36.jpg: Mean pixel difference=5.99111159810289\n",
      "All files and directories in /mnt/f/8) 2025/2025-5-31 （元）伊豆大島キャン→阿智村キャン/みんなが撮ったの/LINE_ALBUM_急遽長野‼️_250607_36.jpg have been removed.\n",
      "Deleted /mnt/f/8) 2025/2025-5-31 （元）伊豆大島キャン→阿智村キャン/みんなが撮ったの/LINE_ALBUM_急遽長野‼️_250607_36.jpg (approximate duplicate of /mnt/f/8) 2025/2025-5-31 （元）伊豆大島キャン→阿智村キャン/2025-6-1 ２日目/PXL_20250601_021134310.jpg, lower resolution)\n",
      "Checking 2 images with hash: a15515274f36666b\n",
      "Comparing /mnt/f/8) 2025/2025-5-31 （元）伊豆大島キャン→阿智村キャン/2025-6-1 ２日目/PXL_20250601_040652988.jpg and /mnt/f/8) 2025/2025-5-31 （元）伊豆大島キャン→阿智村キャン/みんなが撮ったの/LINE_ALBUM_急遽長野‼️_250607_38.jpg: Mean pixel difference=10.405793080692497\n",
      "Checking 2 images with hash: aa21815abf1e5d96\n",
      "Comparing /mnt/f/8) 2025/2025-5-31 （元）伊豆大島キャン→阿智村キャン/2025-6-1 ２日目/PXL_20250601_021100217.jpg and /mnt/f/8) 2025/2025-5-31 （元）伊豆大島キャン→阿智村キャン/みんなが撮ったの/LINE_ALBUM_急遽長野‼️_250607_33.jpg: Mean pixel difference=7.090521383021659\n",
      "All files and directories in /mnt/f/8) 2025/2025-5-31 （元）伊豆大島キャン→阿智村キャン/みんなが撮ったの/LINE_ALBUM_急遽長野‼️_250607_33.jpg have been removed.\n",
      "Deleted /mnt/f/8) 2025/2025-5-31 （元）伊豆大島キャン→阿智村キャン/みんなが撮ったの/LINE_ALBUM_急遽長野‼️_250607_33.jpg (approximate duplicate of /mnt/f/8) 2025/2025-5-31 （元）伊豆大島キャン→阿智村キャン/2025-6-1 ２日目/PXL_20250601_021100217.jpg, lower resolution)\n",
      "Checking 2 images with hash: aa21c54aa98d5dcf\n",
      "Comparing /mnt/f/8) 2025/2025-5-31 （元）伊豆大島キャン→阿智村キャン/2025-6-1 ２日目/PXL_20250601_021028219.PORTRAIT.jpg and /mnt/f/8) 2025/2025-5-31 （元）伊豆大島キャン→阿智村キャン/みんなが撮ったの/LINE_ALBUM_急遽長野‼️_250607_35.jpg: Mean pixel difference=5.1884768267732335\n",
      "All files and directories in /mnt/f/8) 2025/2025-5-31 （元）伊豆大島キャン→阿智村キャン/みんなが撮ったの/LINE_ALBUM_急遽長野‼️_250607_35.jpg have been removed.\n",
      "Deleted /mnt/f/8) 2025/2025-5-31 （元）伊豆大島キャン→阿智村キャン/みんなが撮ったの/LINE_ALBUM_急遽長野‼️_250607_35.jpg (approximate duplicate of /mnt/f/8) 2025/2025-5-31 （元）伊豆大島キャン→阿智村キャン/2025-6-1 ２日目/PXL_20250601_021028219.PORTRAIT.jpg, lower resolution)\n",
      "Checking 2 images with hash: ab41dc3922a6ecda\n",
      "Comparing /mnt/f/8) 2025/2025-5-31 （元）伊豆大島キャン→阿智村キャン/2025-5-31 １日目/PXL_20250531_090713653.jpg and /mnt/f/8) 2025/2025-5-31 （元）伊豆大島キャン→阿智村キャン/みんなが撮ったの/LINE_ALBUM_急遽長野‼️_250607_15.jpg: Mean pixel difference=3.4706679310956208\n",
      "All files and directories in /mnt/f/8) 2025/2025-5-31 （元）伊豆大島キャン→阿智村キャン/みんなが撮ったの/LINE_ALBUM_急遽長野‼️_250607_15.jpg have been removed.\n",
      "Deleted /mnt/f/8) 2025/2025-5-31 （元）伊豆大島キャン→阿智村キャン/みんなが撮ったの/LINE_ALBUM_急遽長野‼️_250607_15.jpg (approximate duplicate of /mnt/f/8) 2025/2025-5-31 （元）伊豆大島キャン→阿智村キャン/2025-5-31 １日目/PXL_20250531_090713653.jpg, lower resolution)\n",
      "Checking 2 images with hash: b08f8aa4e39cccd3\n",
      "Comparing /mnt/f/8) 2025/2025-5-31 （元）伊豆大島キャン→阿智村キャン/2025-6-1 ２日目/PXL_20250601_012252054.jpg and /mnt/f/8) 2025/2025-5-31 （元）伊豆大島キャン→阿智村キャン/みんなが撮ったの/LINE_ALBUM_急遽長野‼️_250607_23.jpg: Mean pixel difference=12.376487220402565\n",
      "Checking 2 images with hash: b0bf80c69e626367\n",
      "Comparing /mnt/f/8) 2025/2025-5-31 （元）伊豆大島キャン→阿智村キャン/2025-6-1 ２日目/PXL_20250601_012355876.jpg and /mnt/f/8) 2025/2025-5-31 （元）伊豆大島キャン→阿智村キャン/みんなが撮ったの/LINE_ALBUM_急遽長野‼️_250607_22.jpg: Mean pixel difference=10.053876402594444\n",
      "Checking 2 images with hash: b53324951bc07d6d\n",
      "Comparing /mnt/f/8) 2025/2025-5-31 （元）伊豆大島キャン→阿智村キャン/2025-5-31 １日目/PXL_20250531_124631488.jpg and /mnt/f/8) 2025/2025-5-31 （元）伊豆大島キャン→阿智村キャン/みんなが撮ったの/LINE_ALBUM_急遽長野‼️_250607_16.jpg: Mean pixel difference=3.7361758853918796\n",
      "All files and directories in /mnt/f/8) 2025/2025-5-31 （元）伊豆大島キャン→阿智村キャン/みんなが撮ったの/LINE_ALBUM_急遽長野‼️_250607_16.jpg have been removed.\n",
      "Deleted /mnt/f/8) 2025/2025-5-31 （元）伊豆大島キャン→阿智村キャン/みんなが撮ったの/LINE_ALBUM_急遽長野‼️_250607_16.jpg (approximate duplicate of /mnt/f/8) 2025/2025-5-31 （元）伊豆大島キャン→阿智村キャン/2025-5-31 １日目/PXL_20250531_124631488.jpg, lower resolution)\n",
      "Checking 2 images with hash: b6fa18c1e18d8765\n",
      "Comparing /mnt/f/8) 2025/2025-5-31 （元）伊豆大島キャン→阿智村キャン/2025-6-2 ３日目/PXL_20250602_053501991.jpg and /mnt/f/8) 2025/2025-5-31 （元）伊豆大島キャン→阿智村キャン/みんなが撮ったの/LINE_ALBUM_急遽長野‼️_250607_79.jpg: Mean pixel difference=4.024558919201304\n",
      "All files and directories in /mnt/f/8) 2025/2025-5-31 （元）伊豆大島キャン→阿智村キャン/みんなが撮ったの/LINE_ALBUM_急遽長野‼️_250607_79.jpg have been removed.\n",
      "Deleted /mnt/f/8) 2025/2025-5-31 （元）伊豆大島キャン→阿智村キャン/みんなが撮ったの/LINE_ALBUM_急遽長野‼️_250607_79.jpg (approximate duplicate of /mnt/f/8) 2025/2025-5-31 （元）伊豆大島キャン→阿智村キャン/2025-6-2 ３日目/PXL_20250602_053501991.jpg, lower resolution)\n",
      "Checking 2 images with hash: ba808ed1e5da6366\n",
      "Comparing /mnt/f/8) 2025/2025-5-31 （元）伊豆大島キャン→阿智村キャン/2025-6-1 ２日目/PXL_20250601_020020091.jpg and /mnt/f/8) 2025/2025-5-31 （元）伊豆大島キャン→阿智村キャン/みんなが撮ったの/LINE_ALBUM_急遽長野‼️_250607_31.jpg: Mean pixel difference=10.260106610373917\n",
      "Checking 2 images with hash: c06fc68b1ee3acd0\n",
      "Comparing /mnt/f/8) 2025/2025-5-31 （元）伊豆大島キャン→阿智村キャン/2025-6-1 ２日目/PXL_20250601_111148934.jpg and /mnt/f/8) 2025/2025-5-31 （元）伊豆大島キャン→阿智村キャン/みんなが撮ったの/LINE_ALBUM_急遽長野‼️_250607_72.jpg: Mean pixel difference=5.461622787832554\n",
      "All files and directories in /mnt/f/8) 2025/2025-5-31 （元）伊豆大島キャン→阿智村キャン/みんなが撮ったの/LINE_ALBUM_急遽長野‼️_250607_72.jpg have been removed.\n",
      "Deleted /mnt/f/8) 2025/2025-5-31 （元）伊豆大島キャン→阿智村キャン/みんなが撮ったの/LINE_ALBUM_急遽長野‼️_250607_72.jpg (approximate duplicate of /mnt/f/8) 2025/2025-5-31 （元）伊豆大島キャン→阿智村キャン/2025-6-1 ２日目/PXL_20250601_111148934.jpg, lower resolution)\n",
      "Checking 2 images with hash: c2c4b2b93d8dc713\n",
      "Comparing /mnt/f/8) 2025/2025-5-31 （元）伊豆大島キャン→阿智村キャン/2025-6-1 ２日目/PXL_20250531_234626421.jpg and /mnt/f/8) 2025/2025-5-31 （元）伊豆大島キャン→阿智村キャン/みんなが撮ったの/LINE_ALBUM_急遽長野‼️_250607_19.jpg: Mean pixel difference=13.489645920525275\n",
      "Checking 2 images with hash: c5c6cefa88371383\n",
      "Comparing /mnt/f/8) 2025/2025-5-31 （元）伊豆大島キャン→阿智村キャン/2025-6-2 ３日目/PXL_20250601_211110370.jpg and /mnt/f/8) 2025/2025-5-31 （元）伊豆大島キャン→阿智村キャン/みんなが撮ったの/LINE_ALBUM_急遽長野‼️_250607_77.jpg: Mean pixel difference=11.06255125078152\n",
      "Checking 2 images with hash: d34c25359be3a174\n",
      "Comparing /mnt/f/8) 2025/2025-5-31 （元）伊豆大島キャン→阿智村キャン/2025-6-1 ２日目/PXL_20250601_015130564.jpg and /mnt/f/8) 2025/2025-5-31 （元）伊豆大島キャン→阿智村キャン/みんなが撮ったの/LINE_ALBUM_急遽長野‼️_250607_30.jpg: Mean pixel difference=12.12233149647033\n",
      "Checking 2 images with hash: dcddd4e08549bd48\n",
      "Comparing /mnt/f/8) 2025/2025-5-31 （元）伊豆大島キャン→阿智村キャン/2025-6-1 ２日目/PXL_20250601_041616934.jpg and /mnt/f/8) 2025/2025-5-31 （元）伊豆大島キャン→阿智村キャン/みんなが撮ったの/LINE_ALBUM_急遽長野‼️_250607_39.jpg: Mean pixel difference=5.315125745943096\n",
      "All files and directories in /mnt/f/8) 2025/2025-5-31 （元）伊豆大島キャン→阿智村キャン/みんなが撮ったの/LINE_ALBUM_急遽長野‼️_250607_39.jpg have been removed.\n",
      "Deleted /mnt/f/8) 2025/2025-5-31 （元）伊豆大島キャン→阿智村キャン/みんなが撮ったの/LINE_ALBUM_急遽長野‼️_250607_39.jpg (approximate duplicate of /mnt/f/8) 2025/2025-5-31 （元）伊豆大島キャン→阿智村キャン/2025-6-1 ２日目/PXL_20250601_041616934.jpg, lower resolution)\n",
      "Checking 2 images with hash: e5cb9b0584b919b5\n",
      "Comparing /mnt/f/8) 2025/2025-5-31 （元）伊豆大島キャン→阿智村キャン/2025-6-1 ２日目/PXL_20250601_020802243.jpg and /mnt/f/8) 2025/2025-5-31 （元）伊豆大島キャン→阿智村キャン/みんなが撮ったの/LINE_ALBUM_急遽長野‼️_250607_32.jpg: Mean pixel difference=7.530220026968263\n",
      "All files and directories in /mnt/f/8) 2025/2025-5-31 （元）伊豆大島キャン→阿智村キャン/みんなが撮ったの/LINE_ALBUM_急遽長野‼️_250607_32.jpg have been removed.\n",
      "Deleted /mnt/f/8) 2025/2025-5-31 （元）伊豆大島キャン→阿智村キャン/みんなが撮ったの/LINE_ALBUM_急遽長野‼️_250607_32.jpg (approximate duplicate of /mnt/f/8) 2025/2025-5-31 （元）伊豆大島キャン→阿智村キャン/2025-6-1 ２日目/PXL_20250601_020802243.jpg, lower resolution)\n",
      "Checking 2 images with hash: f78c4c240b5ad1b7\n",
      "Comparing /mnt/f/8) 2025/2025-5-31 （元）伊豆大島キャン→阿智村キャン/2025-5-31 １日目/PXL_20250531_074104175.jpg and /mnt/f/8) 2025/2025-5-31 （元）伊豆大島キャン→阿智村キャン/みんなが撮ったの/LINE_ALBUM_急遽長野‼️_250607_13.jpg: Mean pixel difference=5.279065608582253\n",
      "All files and directories in /mnt/f/8) 2025/2025-5-31 （元）伊豆大島キャン→阿智村キャン/みんなが撮ったの/LINE_ALBUM_急遽長野‼️_250607_13.jpg have been removed.\n",
      "Deleted /mnt/f/8) 2025/2025-5-31 （元）伊豆大島キャン→阿智村キャン/みんなが撮ったの/LINE_ALBUM_急遽長野‼️_250607_13.jpg (approximate duplicate of /mnt/f/8) 2025/2025-5-31 （元）伊豆大島キャン→阿智村キャン/2025-5-31 １日目/PXL_20250531_074104175.jpg, lower resolution)\n",
      "Checking 2 images with hash: fc13839091c7cff0\n",
      "Comparing /mnt/f/8) 2025/2025-5-31 （元）伊豆大島キャン→阿智村キャン/2025-6-1 ２日目/PXL_20250601_021256919.jpg and /mnt/f/8) 2025/2025-5-31 （元）伊豆大島キャン→阿智村キャン/みんなが撮ったの/LINE_ALBUM_急遽長野‼️_250607_37.jpg: Mean pixel difference=7.356779288058724\n",
      "All files and directories in /mnt/f/8) 2025/2025-5-31 （元）伊豆大島キャン→阿智村キャン/みんなが撮ったの/LINE_ALBUM_急遽長野‼️_250607_37.jpg have been removed.\n",
      "Deleted /mnt/f/8) 2025/2025-5-31 （元）伊豆大島キャン→阿智村キャン/みんなが撮ったの/LINE_ALBUM_急遽長野‼️_250607_37.jpg (approximate duplicate of /mnt/f/8) 2025/2025-5-31 （元）伊豆大島キャン→阿智村キャン/2025-6-1 ２日目/PXL_20250601_021256919.jpg, lower resolution)\n",
      "Checking 2 images with hash: ffdd1434664c1919\n",
      "Comparing /mnt/f/8) 2025/2025-5-31 （元）伊豆大島キャン→阿智村キャン/2025-6-1 ２日目/PXL_20250601_042023080.jpg and /mnt/f/8) 2025/2025-5-31 （元）伊豆大島キャン→阿智村キャン/みんなが撮ったの/LINE_ALBUM_急遽長野‼️_250607_40.jpg: Mean pixel difference=5.093104772344466\n",
      "All files and directories in /mnt/f/8) 2025/2025-5-31 （元）伊豆大島キャン→阿智村キャン/みんなが撮ったの/LINE_ALBUM_急遽長野‼️_250607_40.jpg have been removed.\n",
      "Deleted /mnt/f/8) 2025/2025-5-31 （元）伊豆大島キャン→阿智村キャン/みんなが撮ったの/LINE_ALBUM_急遽長野‼️_250607_40.jpg (approximate duplicate of /mnt/f/8) 2025/2025-5-31 （元）伊豆大島キャン→阿智村キャン/2025-6-1 ２日目/PXL_20250601_042023080.jpg, lower resolution)\n",
      "Deleted 18 approximate duplicate images.\n",
      "Approximate duplicate image removal process complete.\n",
      "All files and directories in /home/hans/projects/mislanious_scripts/image_hashes.db have been removed.\n"
     ]
    }
   ],
   "source": [
    "dir = \"/mnt/f/8) 2025/2025-5-31 （元）伊豆大島キャン→阿智村キャン\"\n",
    "\n",
    "rf.remove_repeated_images(dir,printDeets=True)"
   ]
  },
  {
   "cell_type": "markdown",
   "metadata": {},
   "source": [
    "get random files and open them"
   ]
  },
  {
   "cell_type": "code",
   "execution_count": null,
   "metadata": {},
   "outputs": [],
   "source": [
    "for i in rf.getRandomFiles([\"/mnt/f\"],\"image\",50):\n",
    "    print(i)"
   ]
  },
  {
   "cell_type": "markdown",
   "metadata": {},
   "source": [
    "God's Panel Simulation"
   ]
  },
  {
   "cell_type": "code",
   "execution_count": 11,
   "metadata": {},
   "outputs": [
    {
     "name": "stdout",
     "output_type": "stream",
     "text": [
      "Successfully loaded slider data from inputs/GodsPanelPresets/NeuralTest.json\n"
     ]
    }
   ],
   "source": [
    "rf.GodsPanel(\"inputs/GodsPanelPresets/NeuralTest.json\")"
   ]
  },
  {
   "cell_type": "markdown",
   "metadata": {},
   "source": [
    "lnk to relative shortcuts"
   ]
  },
  {
   "cell_type": "code",
   "execution_count": 12,
   "metadata": {},
   "outputs": [],
   "source": [
    "parent_dir = \"/mnt/f/0) Other/3) Other Shortcuts/Family pics\"\n",
    "\n",
    "lnks = [i for i in rf.get_all_file_paths(parent_dir) if rf.os.path.splitext(i)[1] == \".lnk\"]\n",
    "for lnk in lnks:\n",
    "    rf.lnkToRelativeShorcut(lnk,False)"
   ]
  }
 ],
 "metadata": {
  "kernelspec": {
   "display_name": "mislanious-scripts-8qATDqur-py3.12",
   "language": "python",
   "name": "python3"
  },
  "language_info": {
   "codemirror_mode": {
    "name": "ipython",
    "version": 3
   },
   "file_extension": ".py",
   "mimetype": "text/x-python",
   "name": "python",
   "nbconvert_exporter": "python",
   "pygments_lexer": "ipython3",
   "version": "3.12.3"
  }
 },
 "nbformat": 4,
 "nbformat_minor": 2
}
