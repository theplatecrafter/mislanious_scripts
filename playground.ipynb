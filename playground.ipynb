{
 "cells": [
  {
   "cell_type": "markdown",
   "metadata": {},
   "source": [
    "initial import"
   ]
  },
  {
   "cell_type": "code",
   "execution_count": 1,
   "metadata": {},
   "outputs": [
    {
     "name": "stdout",
     "output_type": "stream",
     "text": [
      "pygame 2.6.1 (SDL 2.28.4, Python 3.12.3)\n",
      "Hello from the pygame community. https://www.pygame.org/contribute.html\n"
     ]
    }
   ],
   "source": [
    "import time_capsule_handler.main as tch\n",
    "import random_functions.main as rf\n",
    "import numpy as np\n",
    "import math as m"
   ]
  },
  {
   "cell_type": "markdown",
   "metadata": {},
   "source": [
    "double pendulum simulation (output vid)"
   ]
  },
  {
   "cell_type": "code",
   "execution_count": null,
   "metadata": {},
   "outputs": [
    {
     "name": "stdout",
     "output_type": "stream",
     "text": [
      "Animation saved as double_pendulum.mp4\n"
     ]
    }
   ],
   "source": [
    "rf.visualize_double_pendulum(np.pi/2,np.pi/2,2,output_dir=\"outputs\")"
   ]
  },
  {
   "cell_type": "markdown",
   "metadata": {},
   "source": [
    "double pendulum grid simulation (output vid)"
   ]
  },
  {
   "cell_type": "code",
   "execution_count": null,
   "metadata": {},
   "outputs": [],
   "source": [
    "start1, end1 = m.radians(180), m.radians(-180)\n",
    "start2, end2 = m.radians(180), m.radians(-180)\n",
    "\n",
    "rf.double_pendulum_chaos_grid((start1,end1),(start2,end2),60,[2],\"outputs\",\"DP_grid_fullrange\",printDeets=True,sim_height=50,sim_width=50)"
   ]
  },
  {
   "cell_type": "markdown",
   "metadata": {},
   "source": [
    "double pendulum grid simulation (pygame, continuouse)"
   ]
  },
  {
   "cell_type": "code",
   "execution_count": null,
   "metadata": {},
   "outputs": [],
   "source": [
    "start1, end1 = m.radians(90), m.radians(-90)\n",
    "start2, end2 = m.radians(90), m.radians(-90)\n",
    "\n",
    "rf.grid_sim((start1,end1),(start2,end2),50,50,500,500,printDeets=True)"
   ]
  },
  {
   "cell_type": "markdown",
   "metadata": {},
   "source": [
    "remove repeated images"
   ]
  },
  {
   "cell_type": "code",
   "execution_count": null,
   "metadata": {},
   "outputs": [],
   "source": [
    "dir = \"/mnt/f/8) 2025/2025-3-17~19 卒業旅行\"\n",
    "\n",
    "rf.remove_repeated_images(dir,printDeets=True)"
   ]
  },
  {
   "cell_type": "markdown",
   "metadata": {},
   "source": [
    "get random files and open them"
   ]
  },
  {
   "cell_type": "code",
   "execution_count": null,
   "metadata": {},
   "outputs": [],
   "source": [
    "for i in rf.getRandomFiles([\"/mnt/f\"],\"image\",50):\n",
    "    print(i)"
   ]
  },
  {
   "cell_type": "markdown",
   "metadata": {},
   "source": [
    "God's Panel Simulation"
   ]
  },
  {
   "cell_type": "code",
   "execution_count": 11,
   "metadata": {},
   "outputs": [
    {
     "name": "stdout",
     "output_type": "stream",
     "text": [
      "Successfully loaded slider data from inputs/GodsPanelPresets/NeuralTest.json\n"
     ]
    }
   ],
   "source": [
    "rf.GodsPanel(\"inputs/GodsPanelPresets/NeuralTest.json\")"
   ]
  }
 ],
 "metadata": {
  "kernelspec": {
   "display_name": "mislanious-scripts-8qATDqur-py3.12",
   "language": "python",
   "name": "python3"
  },
  "language_info": {
   "codemirror_mode": {
    "name": "ipython",
    "version": 3
   },
   "file_extension": ".py",
   "mimetype": "text/x-python",
   "name": "python",
   "nbconvert_exporter": "python",
   "pygments_lexer": "ipython3",
   "version": "3.12.3"
  }
 },
 "nbformat": 4,
 "nbformat_minor": 2
}
